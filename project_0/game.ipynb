{
 "cells": [
  {
   "attachments": {},
   "cell_type": "markdown",
   "metadata": {},
   "source": [
    "# Игра угадай число\n",
    "## Компьютер сам загадывает и отгадывает число"
   ]
  },
  {
   "cell_type": "code",
   "execution_count": null,
   "metadata": {},
   "outputs": [],
   "source": [
    "from game_v3 import score_game1\n",
    "from game_v3 import random_predict1"
   ]
  },
  {
   "cell_type": "code",
   "execution_count": null,
   "metadata": {},
   "outputs": [],
   "source": [
    "score_game1(random_predict1)"
   ]
  },
  {
   "cell_type": "code",
   "execution_count": 3,
   "metadata": {},
   "outputs": [
    {
     "name": "stdout",
     "output_type": "stream",
     "text": [
      "Ваш алгоритм угадывает число в среднем за:6 попыток\n",
      "Среднее число попыток 6\n",
      "Максимальное количество попыток 8\n",
      "Минимальное количество попыток 1\n"
     ]
    }
   ],
   "source": [
    "import numpy as np\n",
    "\n",
    "\n",
    "def random_predict1(number: int = 1) -> int:\n",
    "    \"\"\"Угадываем число за количество попыток не более 20\n",
    "\n",
    "    Args:\n",
    "        number (int, optional): Загаданное число. Defaults to 1.\n",
    "\n",
    "    Returns:\n",
    "        int: Число попыток\n",
    "    \"\"\"\n",
    "    count = 0\n",
    "    min1 = 1  # нижняя граница\n",
    "    max1 = 100  # верхняя граница\n",
    "    # предполагаемое число, начинаем с рандома\n",
    "    predict_number = np.random.randint(1, 101)  \n",
    "    \n",
    "    while True:\n",
    "        count += 1\n",
    "        if number > predict_number:\n",
    "            min1 = predict_number\n",
    "            predict_number = max1 - (max1 - min1)//2\n",
    "        elif number < predict_number:\n",
    "            max1 = predict_number\n",
    "            predict_number = min1 + (max1 - min1)//2\n",
    "        else:\n",
    "            # print(f\"Вы угадали число! Это число = {predict_number}, за {count} попыток\")\n",
    "            break  # выход из цикла если угадали\n",
    "\n",
    "    return count\n",
    "\n",
    "\n",
    "def score_game1(random_predict1) -> int:\n",
    "    \"\"\"За какое количство попыток в среднем за 1000 \n",
    "    подходов угадывает наш алгоритм\n",
    "\n",
    "    Args:\n",
    "        random_predict ([type]): функция угадывания\n",
    "\n",
    "    Returns:\n",
    "        int: среднее количество попыток\n",
    "    \"\"\"\n",
    "    count_ls = []\n",
    "    np.random.seed(1)  # фиксируем сид для воспроизводимости\n",
    "    # загадали список чисел\n",
    "    random_array = np.random.randint(1, 101, size=1000)  \n",
    "\n",
    "    for number in random_array:\n",
    "        count_ls.append(random_predict1(number))\n",
    "\n",
    "    score = int(np.mean(count_ls))\n",
    "    print(f\"Ваш алгоритм угадывает число в среднем за:{score} попыток\")\n",
    "    print(f'Среднее число попыток {int(np.mean(count_ls))}') \n",
    "    print(f'Максимальное количество попыток {max(count_ls)}') \n",
    "    print(f'Минимальное количество попыток {min(count_ls)}')\n",
    "    return score\n",
    "\n",
    "\n",
    "if __name__ == \"__main__\":\n",
    "    # RUN\n",
    "    score_game1(random_predict1)"
   ]
  }
 ],
 "metadata": {
  "kernelspec": {
   "display_name": "Python 3",
   "language": "python",
   "name": "python3"
  },
  "language_info": {
   "codemirror_mode": {
    "name": "ipython",
    "version": 3
   },
   "file_extension": ".py",
   "mimetype": "text/x-python",
   "name": "python",
   "nbconvert_exporter": "python",
   "pygments_lexer": "ipython3",
   "version": "3.9.10"
  },
  "orig_nbformat": 4,
  "vscode": {
   "interpreter": {
    "hash": "5cd0754efb6bbdcdebad0dd147baf520a6c5581648b39bd351ff3c5efd088968"
   }
  }
 },
 "nbformat": 4,
 "nbformat_minor": 2
}
