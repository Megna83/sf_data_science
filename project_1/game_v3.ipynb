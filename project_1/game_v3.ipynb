{
 "cells": [
  {
   "attachments": {},
   "cell_type": "markdown",
   "metadata": {},
   "source": [
    "# Игра угадай число\n",
    "## Компьютер сам загадывает и отгадывает число"
   ]
  },
  {
   "cell_type": "code",
   "execution_count": 10,
   "metadata": {},
   "outputs": [
    {
     "ename": "ImportError",
     "evalue": "cannot import name 'score_game1' from 'game_v3' (f:\\DataSciense\\project_0\\game_v3.py)",
     "output_type": "error",
     "traceback": [
      "\u001b[1;31m---------------------------------------------------------------------------\u001b[0m",
      "\u001b[1;31mImportError\u001b[0m                               Traceback (most recent call last)",
      "Cell \u001b[1;32mIn[10], line 1\u001b[0m\n\u001b[1;32m----> 1\u001b[0m \u001b[39mfrom\u001b[39;00m \u001b[39mgame_v3\u001b[39;00m \u001b[39mimport\u001b[39;00m score_game1\n\u001b[0;32m      2\u001b[0m \u001b[39mfrom\u001b[39;00m \u001b[39mgame_v3\u001b[39;00m \u001b[39mimport\u001b[39;00m random_predict1\n",
      "\u001b[1;31mImportError\u001b[0m: cannot import name 'score_game1' from 'game_v3' (f:\\DataSciense\\project_0\\game_v3.py)"
     ]
    }
   ],
   "source": [
    "from game_v3 import score_game1\n",
    "from game_v3 import random_predict1"
   ]
  },
  {
   "cell_type": "code",
   "execution_count": 5,
   "metadata": {},
   "outputs": [
    {
     "ename": "NameError",
     "evalue": "name 'score_game1' is not defined",
     "output_type": "error",
     "traceback": [
      "\u001b[1;31m---------------------------------------------------------------------------\u001b[0m",
      "\u001b[1;31mNameError\u001b[0m                                 Traceback (most recent call last)",
      "Cell \u001b[1;32mIn[5], line 1\u001b[0m\n\u001b[1;32m----> 1\u001b[0m score_game1(random_predict1)\n",
      "\u001b[1;31mNameError\u001b[0m: name 'score_game1' is not defined"
     ]
    }
   ],
   "source": [
    "score_game1(random_predict1)"
   ]
  }
 ],
 "metadata": {
  "kernelspec": {
   "display_name": "Python 3",
   "language": "python",
   "name": "python3"
  },
  "language_info": {
   "codemirror_mode": {
    "name": "ipython",
    "version": 3
   },
   "file_extension": ".py",
   "mimetype": "text/x-python",
   "name": "python",
   "nbconvert_exporter": "python",
   "pygments_lexer": "ipython3",
   "version": "3.9.10"
  },
  "orig_nbformat": 4,
  "vscode": {
   "interpreter": {
    "hash": "5cd0754efb6bbdcdebad0dd147baf520a6c5581648b39bd351ff3c5efd088968"
   }
  }
 },
 "nbformat": 4,
 "nbformat_minor": 2
}
